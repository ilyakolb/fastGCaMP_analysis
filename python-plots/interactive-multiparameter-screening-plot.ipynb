{
 "cells": [
  {
   "cell_type": "code",
   "execution_count": 1,
   "metadata": {},
   "outputs": [],
   "source": [
    "# -*- coding: utf-8 -*-\n",
    "\"\"\"\n",
    "multi-parameter screening plots\n",
    "\n",
    "\"\"\"\n",
    "\n",
    "import plotly.express as px\n",
    "import pandas as pd\n",
    "import plotly.io as pio\n",
    "import plotly.graph_objects as go\n",
    "from ipywidgets import widgets\n",
    "\n",
    "pio.renderers.default='browser'\n",
    "\n",
    "csv_dir = r'Z:\\ilya\\code\\fastGCaMP_analysis\\python-plots\\data/data_all_20200325_GCaMP96uf.csv'\n",
    "\n",
    "plottableVars = ['1FP', '3FP', '10FP', '160FP',\n",
    "                 'Rise (1FP)', 'Rise (3FP)', 'Rise (10FP)', 'Rise (160FP)',\n",
    "                 'TimeToPeak (1FP)','TimeToPeak (3FP)', 'TimeToPeak (10FP)', 'TimeToPeak (160FP)',\n",
    "                 'Decay (1FP)', 'Decay (3FP)', 'Decay (10FP)','Decay (160FP)',\n",
    "                 'SNR (1FP)','SNR (3FP)', 'SNR (10FP)', 'SNR (160FP)',\n",
    "                 'Norm. F0']\n",
    "\n",
    "data = pd.read_csv(csv_dir, na_values = '#NUM!')\n",
    "\n",
    "data.set_index(data['Construct'])\n",
    "# remove NaNs\n",
    "data.dropna(axis = 0, how = 'any')\n",
    "# data.drop(['TE only', 'TE-only', 'none'], axis = 0)\n",
    "data_filt = data[data['Decay (1FP)'] > 0]\n",
    "\n",
    "# scatter_fig = px.scatter(data_filt, x=\"1FP\", y=\"Rise (1FP)\", color=\"Decay (1FP)\", \n",
    "#                          size='Decay (1FP)', hover_data=['Construct'])\n",
    "\n",
    "g = go.FigureWidget({\n",
    "    'data': [{'customdata': data_filt['Construct'],\n",
    "              # 'hovertemplate': ('1FP=%{x}<br>Rise (1FP)=%{y}<br' ... '{customdata[0]}<extra></extra>'),\n",
    "              'legendgroup': '',\n",
    "              'marker': {'color': data_filt['Decay (1FP)'],\n",
    "                         'coloraxis': 'coloraxis',\n",
    "                         'size': data_filt['Decay (1FP)'],\n",
    "                         'sizemode': 'area',\n",
    "                         'sizeref': 0.00825,\n",
    "                         'symbol': 'circle'},\n",
    "              'mode': 'markers',\n",
    "              'name': '',\n",
    "              'orientation': 'v',\n",
    "              'showlegend': False,\n",
    "              'type': 'scatter',\n",
    "              'x': data_filt['1FP'],\n",
    "              'xaxis': 'x',\n",
    "              'y': data_filt['Rise (1FP)'],\n",
    "              'yaxis': 'y'}],\n",
    "    'layout': {'coloraxis': {'colorbar': {'title': {'text': 'Decay (1FP)'}},\n",
    "                             'colorscale': [[0.0, '#0d0887'], [0.1111111111111111,\n",
    "                                            '#46039f'], [0.2222222222222222,\n",
    "                                            '#7201a8'], [0.3333333333333333,\n",
    "                                            '#9c179e'], [0.4444444444444444,\n",
    "                                            '#bd3786'], [0.5555555555555556,\n",
    "                                            '#d8576b'], [0.6666666666666666,\n",
    "                                            '#ed7953'], [0.7777777777777778,\n",
    "                                            '#fb9f3a'], [0.8888888888888888,\n",
    "                                            '#fdca26'], [1.0, '#f0f921']]},\n",
    "               'legend': {'itemsizing': 'constant', 'tracegroupgap': 0},\n",
    "               'margin': {'t': 60},\n",
    "               # 'template': '...',\n",
    "               'xaxis': {'anchor': 'y', 'domain': [0.0, 1.0], 'title': {'text': '1FP'}},\n",
    "               'yaxis': {'anchor': 'x', 'domain': [0.0, 1.0], 'title': {'text': 'Rise (1FP)'}}}\n",
    "})\n",
    "                                                         \n",
    "\n",
    "\n",
    "x_dropdown = widgets.Dropdown(\n",
    "    options=plottableVars,\n",
    "    value='1FP',\n",
    "    description='x axis variable:',\n",
    ")\n",
    "\n",
    "v = widgets.VBox([x_dropdown, g])\n"
   ]
  },
  {
   "cell_type": "code",
   "execution_count": 2,
   "metadata": {},
   "outputs": [
    {
     "data": {
      "application/vnd.jupyter.widget-view+json": {
       "model_id": "aeaf905077bc4c57b8b1daf4278c1590",
       "version_major": 2,
       "version_minor": 0
      },
      "text/plain": [
       "VBox(children=(Dropdown(description='x axis variable:', options=('1FP', '3FP', '10FP', '160FP', 'Rise (1FP)', …"
      ]
     },
     "metadata": {},
     "output_type": "display_data"
    }
   ],
   "source": [
    "v"
   ]
  },
  {
   "cell_type": "code",
   "execution_count": null,
   "metadata": {},
   "outputs": [],
   "source": []
  }
 ],
 "metadata": {
  "kernelspec": {
   "display_name": "Python [conda env:.conda-base2] *",
   "language": "python",
   "name": "conda-env-.conda-base2-py"
  },
  "language_info": {
   "codemirror_mode": {
    "name": "ipython",
    "version": 3
   },
   "file_extension": ".py",
   "mimetype": "text/x-python",
   "name": "python",
   "nbconvert_exporter": "python",
   "pygments_lexer": "ipython3",
   "version": "3.7.7"
  }
 },
 "nbformat": 4,
 "nbformat_minor": 2
}
